{
 "cells": [
  {
   "cell_type": "markdown",
   "id": "b91ccac7",
   "metadata": {},
   "source": [
    "# Resize images\n",
    "### This notebook resizes the training images to 300 x 300 pixels"
   ]
  },
  {
   "cell_type": "code",
   "execution_count": 1,
   "id": "24176867",
   "metadata": {},
   "outputs": [],
   "source": [
    "from PIL import Image\n",
    "import pandas as pd"
   ]
  },
  {
   "cell_type": "code",
   "execution_count": 2,
   "id": "fada8b39",
   "metadata": {},
   "outputs": [],
   "source": [
    "train = pd.read_csv(\"./train.csv\")"
   ]
  },
  {
   "cell_type": "code",
   "execution_count": 3,
   "id": "c3c31e1a",
   "metadata": {},
   "outputs": [],
   "source": [
    "def resize_image(x, y, image_file, save_file):\n",
    "    Image.open(image_file).resize((x,y)).save(save_file)"
   ]
  },
  {
   "cell_type": "code",
   "execution_count": 5,
   "id": "fb2a093d",
   "metadata": {},
   "outputs": [
    {
     "data": {
      "text/plain": [
       "0       None\n",
       "1       None\n",
       "2       None\n",
       "3       None\n",
       "4       None\n",
       "        ... \n",
       "9907    None\n",
       "9908    None\n",
       "9909    None\n",
       "9910    None\n",
       "9911    None\n",
       "Length: 9912, dtype: object"
      ]
     },
     "execution_count": 5,
     "metadata": {},
     "output_type": "execute_result"
    }
   ],
   "source": [
    "train.apply(lambda x: resize_image(300, 300, \"./train/\" + x.Id + \".jpg\", \"./train_resized/\" + x.Id + \".jpg\"), axis=1)"
   ]
  }
 ],
 "metadata": {
  "environment": {
   "name": "tf2-gpu.2-5.m76",
   "type": "gcloud",
   "uri": "gcr.io/deeplearning-platform-release/tf2-gpu.2-5:m76"
  },
  "kernelspec": {
   "display_name": "Python 3",
   "language": "python",
   "name": "python3"
  },
  "language_info": {
   "codemirror_mode": {
    "name": "ipython",
    "version": 3
   },
   "file_extension": ".py",
   "mimetype": "text/x-python",
   "name": "python",
   "nbconvert_exporter": "python",
   "pygments_lexer": "ipython3",
   "version": "3.7.10"
  }
 },
 "nbformat": 4,
 "nbformat_minor": 5
}
