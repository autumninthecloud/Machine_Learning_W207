{
 "cells": [
  {
   "cell_type": "code",
   "execution_count": 3,
   "id": "8b19188b",
   "metadata": {},
   "outputs": [],
   "source": [
    "from sklearn.linear_model import Ridge\n",
    "import pandas as pd\n",
    "import numpy as np\n",
    "\n",
    "df_data = pd.read_csv(\"../data/train.csv\")\n",
    "# print(df_data.head())\n",
    "\n",
    "X_cols = ['Subject Focus','Eyes', 'Face','Near','Action','Accessory','Group','Collage','Human','Occlusion','Info','Blur',]\n",
    "X = df_data[X_cols]\n",
    "Y = df_data['Pawpularity'].values[:]"
   ]
  },
  {
   "cell_type": "markdown",
   "id": "289419e2",
   "metadata": {},
   "source": [
    "resource: https://www.datacamp.com/community/tutorials/feature-selection-python"
   ]
  },
  {
   "cell_type": "code",
   "execution_count": 4,
   "id": "be613d66",
   "metadata": {},
   "outputs": [],
   "source": [
    "ridge = Ridge(alpha=1.0)\n",
    "ridge.fit(X,Y)\n",
    "\n",
    "# A helper method for pretty-printing the coefficients\n",
    "def pretty_print_coefs(coefs, names = None, sort = False):\n",
    "    if names == None:\n",
    "        names = [\"X%s\" % x for x in range(len(coefs))]\n",
    "    lst = zip(coefs, names)\n",
    "    if sort:\n",
    "        lst = sorted(lst,  key = lambda x:-np.abs(x[0]))\n",
    "    return \" + \".join(\"%s * %s\" % (round(coef, 3), name)\n",
    "                                   for coef, name in lst)"
   ]
  },
  {
   "cell_type": "code",
   "execution_count": 5,
   "id": "005d78fe",
   "metadata": {},
   "outputs": [
    {
     "name": "stdout",
     "output_type": "stream",
     "text": [
      "Ridge model: -1.122 * X0 + -2.471 * X1 + 2.44 * X2 + 0.467 * X3 + -0.306 * X4 + 1.209 * X5 + 1.219 * X6 + 0.395 * X7 + 0.363 * X8 + -0.066 * X9 + -0.713 * X10 + -3.741 * X11\n"
     ]
    }
   ],
   "source": [
    "print (\"Ridge model:\", pretty_print_coefs(ridge.coef_))"
   ]
  },
  {
   "cell_type": "markdown",
   "id": "fd26b5d9",
   "metadata": {},
   "source": [
    "1. For correlated features, it means that they tend to get similar coefficients.\n",
    "2. Feature having negative coefficients don't contribute that much. But in a more complex scenario where you are dealing with lots of features, then this score will definitely help you in the ultimate feature selection decision-making process."
   ]
  },
  {
   "cell_type": "code",
   "execution_count": 6,
   "id": "7d0bb7a8",
   "metadata": {},
   "outputs": [
    {
     "data": {
      "text/html": [
       "<div>\n",
       "<style scoped>\n",
       "    .dataframe tbody tr th:only-of-type {\n",
       "        vertical-align: middle;\n",
       "    }\n",
       "\n",
       "    .dataframe tbody tr th {\n",
       "        vertical-align: top;\n",
       "    }\n",
       "\n",
       "    .dataframe thead th {\n",
       "        text-align: right;\n",
       "    }\n",
       "</style>\n",
       "<table border=\"1\" class=\"dataframe\">\n",
       "  <thead>\n",
       "    <tr style=\"text-align: right;\">\n",
       "      <th></th>\n",
       "      <th>Rank</th>\n",
       "    </tr>\n",
       "  </thead>\n",
       "  <tbody>\n",
       "    <tr>\n",
       "      <th>Subject Focus</th>\n",
       "      <td>-1.121868</td>\n",
       "    </tr>\n",
       "    <tr>\n",
       "      <th>Eyes</th>\n",
       "      <td>-2.470566</td>\n",
       "    </tr>\n",
       "    <tr>\n",
       "      <th>Face</th>\n",
       "      <td>2.440190</td>\n",
       "    </tr>\n",
       "    <tr>\n",
       "      <th>Near</th>\n",
       "      <td>0.467289</td>\n",
       "    </tr>\n",
       "    <tr>\n",
       "      <th>Action</th>\n",
       "      <td>-0.305717</td>\n",
       "    </tr>\n",
       "    <tr>\n",
       "      <th>Accessory</th>\n",
       "      <td>1.208905</td>\n",
       "    </tr>\n",
       "    <tr>\n",
       "      <th>Group</th>\n",
       "      <td>1.218551</td>\n",
       "    </tr>\n",
       "    <tr>\n",
       "      <th>Collage</th>\n",
       "      <td>0.394880</td>\n",
       "    </tr>\n",
       "    <tr>\n",
       "      <th>Human</th>\n",
       "      <td>0.363151</td>\n",
       "    </tr>\n",
       "    <tr>\n",
       "      <th>Occlusion</th>\n",
       "      <td>-0.066028</td>\n",
       "    </tr>\n",
       "    <tr>\n",
       "      <th>Info</th>\n",
       "      <td>-0.713227</td>\n",
       "    </tr>\n",
       "    <tr>\n",
       "      <th>Blur</th>\n",
       "      <td>-3.740731</td>\n",
       "    </tr>\n",
       "  </tbody>\n",
       "</table>\n",
       "</div>"
      ],
      "text/plain": [
       "                   Rank\n",
       "Subject Focus -1.121868\n",
       "Eyes          -2.470566\n",
       "Face           2.440190\n",
       "Near           0.467289\n",
       "Action        -0.305717\n",
       "Accessory      1.208905\n",
       "Group          1.218551\n",
       "Collage        0.394880\n",
       "Human          0.363151\n",
       "Occlusion     -0.066028\n",
       "Info          -0.713227\n",
       "Blur          -3.740731"
      ]
     },
     "execution_count": 6,
     "metadata": {},
     "output_type": "execute_result"
    }
   ],
   "source": [
    "pd.DataFrame(ridge.coef_,index=X.columns,columns=['Rank'])"
   ]
  }
 ],
 "metadata": {
  "kernelspec": {
   "display_name": "Python 3 (ipykernel)",
   "language": "python",
   "name": "python3"
  },
  "language_info": {
   "codemirror_mode": {
    "name": "ipython",
    "version": 3
   },
   "file_extension": ".py",
   "mimetype": "text/x-python",
   "name": "python",
   "nbconvert_exporter": "python",
   "pygments_lexer": "ipython3",
   "version": "3.9.7"
  }
 },
 "nbformat": 4,
 "nbformat_minor": 5
}
