{
 "cells": [
  {
   "cell_type": "code",
   "execution_count": 16,
   "id": "4da18f32",
   "metadata": {},
   "outputs": [],
   "source": [
    "%matplotlib inline\r\n",
    "\r\n",
    "import time\r\n",
    "import numpy as np\r\n",
    "import pandas as pd\r\n",
    "import matplotlib.pyplot as plt\r\n",
    "from matplotlib.ticker import MultipleLocator\r\n",
    "from sklearn.pipeline import Pipeline\r\n",
    "from sklearn.datasets import fetch_openml\r\n",
    "from sklearn.neighbors import KNeighborsClassifier\r\n",
    "from sklearn.metrics import confusion_matrix\r\n",
    "from sklearn.linear_model import LinearRegression\r\n",
    "from sklearn.naive_bayes import BernoulliNB\r\n",
    "from sklearn.naive_bayes import MultinomialNB\r\n",
    "from sklearn.naive_bayes import GaussianNB\r\n",
    "from sklearn.model_selection import GridSearchCV\r\n",
    "from sklearn.metrics import classification_report\r\n",
    "from sklearn.model_selection import train_test_split\r\n",
    "from sklearn.ensemble import RandomForestClassifier\r\n",
    "from sklearn.metrics import mean_squared_error\r\n",
    "from PIL import Image\r\n",
    "\r\n",
    "np.random.seed(0)"
   ]
  },
  {
   "cell_type": "code",
   "execution_count": 17,
   "id": "f9a9f962",
   "metadata": {},
   "outputs": [],
   "source": [
    "def jpg_to_rgb_array(file):\n",
    "    image = Image.open(file)\n",
    "    image_sequence = image.getdata()\n",
    "    image_array = pd.DataFrame(np.array(image_sequence), columns=[\"Red\", \"Green\", \"Blue\"])\n",
    "    return image_array\n"
   ]
  },
  {
   "cell_type": "code",
   "execution_count": null,
   "id": "e9be6c28",
   "metadata": {},
   "outputs": [],
   "source": []
  }
 ],
 "metadata": {
  "environment": {
   "name": "tf2-gpu.2-5.m76",
   "type": "gcloud",
   "uri": "gcr.io/deeplearning-platform-release/tf2-gpu.2-5:m76"
  },
  "kernelspec": {
   "display_name": "Python 3",
   "language": "python",
   "name": "python3"
  },
  "language_info": {
   "codemirror_mode": {
    "name": "ipython",
    "version": 3
   },
   "file_extension": ".py",
   "mimetype": "text/x-python",
   "name": "python",
   "nbconvert_exporter": "python",
   "pygments_lexer": "ipython3",
   "version": "3.7.10"
  }
 },
 "nbformat": 4,
 "nbformat_minor": 5
}
