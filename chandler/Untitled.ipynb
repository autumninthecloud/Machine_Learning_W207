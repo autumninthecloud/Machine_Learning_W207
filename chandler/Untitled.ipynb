{
 "cells": [
  {
   "cell_type": "code",
   "execution_count": 1,
   "id": "3d0d244c-6180-47d9-b72a-32f36587bedb",
   "metadata": {},
   "outputs": [],
   "source": [
    "import matplotlib.pyplot as plt\n",
    "import numpy as np\n",
    "import pandas as pd\n",
    "import tensorflow as tf\n",
    "from sklearn.model_selection import train_test_split\n",
    "from sklearn.metrics import mean_squared_error\n",
    "from sklearn.decomposition import PCA\n",
    "from sklearn.decomposition import KernelPCA\n",
    "from sklearn.decomposition import SparsePCA\n",
    "from sklearn.linear_model import LinearRegression\n",
    "from sklearn.svm import SVC\n",
    "from sklearn.neural_network import MLPClassifier\n",
    "from scipy.stats import ttest_ind\n",
    "import cv2\n",
    "\n",
    "from PIL import Image\n",
    "from io import BytesIO"
   ]
  },
  {
   "cell_type": "code",
   "execution_count": 2,
   "id": "4582f658-8e35-4138-9207-561f08cbafad",
   "metadata": {},
   "outputs": [],
   "source": [
    "df = pd.read_csv(\"../data/train_cat_or_dog.csv\")"
   ]
  },
  {
   "cell_type": "code",
   "execution_count": 3,
   "id": "d1e35a8b-c729-4589-92b1-d48d18e89954",
   "metadata": {},
   "outputs": [
    {
     "data": {
      "text/plain": [
       "Index(['Unnamed: 0', 'Id', 'Subject Focus', 'Eyes', 'Face', 'Near', 'Action',\n",
       "       'Accessory', 'Group', 'Collage', 'Human', 'Occlusion', 'Info', 'Blur',\n",
       "       'Pawpularity', 'cat', 'dog'],\n",
       "      dtype='object')"
      ]
     },
     "execution_count": 3,
     "metadata": {},
     "output_type": "execute_result"
    }
   ],
   "source": [
    "df.columns"
   ]
  },
  {
   "cell_type": "code",
   "execution_count": 8,
   "id": "1a8263bc-6be7-4645-96c0-9e5f227d95b1",
   "metadata": {},
   "outputs": [],
   "source": [
    "feature_columns = [\n",
    "    'Subject Focus', \n",
    "    'Eyes', \n",
    "    'Face', \n",
    "    'Near', \n",
    "    'Action', \n",
    "    'Accessory', \n",
    "    'Group', \n",
    "    'Collage', \n",
    "    'Human', \n",
    "    'Occlusion', \n",
    "    'Info', \n",
    "    'Blur', \n",
    "    'cat', \n",
    "    'dog'\n",
    "]\n",
    "target_column = 'Pawpularity'"
   ]
  },
  {
   "cell_type": "code",
   "execution_count": 10,
   "id": "34d82b9c-20db-4edb-b182-4ad3a5ffb417",
   "metadata": {},
   "outputs": [],
   "source": [
    "features = df[feature_columns]\n",
    "targets = df[target_column]"
   ]
  },
  {
   "cell_type": "code",
   "execution_count": 11,
   "id": "53505fdf-8af4-4859-af47-9727e26f40b8",
   "metadata": {},
   "outputs": [],
   "source": [
    "X_train, X_test, y_train, y_test = train_test_split(features, targets, train_size=0.8, random_state=1)"
   ]
  },
  {
   "cell_type": "code",
   "execution_count": 12,
   "id": "51282fc0-2a30-45a8-b4e2-423d3a7aeade",
   "metadata": {},
   "outputs": [
    {
     "data": {
      "text/plain": [
       "(7929, 14)"
      ]
     },
     "execution_count": 12,
     "metadata": {},
     "output_type": "execute_result"
    }
   ],
   "source": [
    "X_train.shape"
   ]
  },
  {
   "cell_type": "code",
   "execution_count": 13,
   "id": "6b025c6d-c025-4c40-863f-941b25ec3c06",
   "metadata": {},
   "outputs": [
    {
     "name": "stdout",
     "output_type": "stream",
     "text": [
      "2170.578349008104\n",
      "2158.4206027712275\n"
     ]
    }
   ],
   "source": [
    "model = LinearRegression()\n",
    "model.fit(X_train, y_train)\n",
    "predictions = model.predict(X_test)\n",
    "\n",
    "print(np.sqrt(mean_squared_error(np.power(predictions,2), np.power(y_test,2))))\n",
    "print(np.sqrt(mean_squared_error(np.power(model.predict(X_train),2), np.power(y_train,2))))"
   ]
  },
  {
   "cell_type": "code",
   "execution_count": 14,
   "id": "d87721f0-af97-4709-9b99-20d7d0cd6208",
   "metadata": {},
   "outputs": [
    {
     "name": "stdout",
     "output_type": "stream",
     "text": [
      "20.44200963256139\n",
      "20.30189222765589\n"
     ]
    }
   ],
   "source": [
    "model = LinearRegression()\n",
    "model.fit(X_train, y_train)\n",
    "predictions = model.predict(X_test)\n",
    "\n",
    "print(np.sqrt(mean_squared_error(predictions, y_test)))\n",
    "print(np.sqrt(mean_squared_error(model.predict(X_train), y_train)))"
   ]
  },
  {
   "cell_type": "code",
   "execution_count": 15,
   "id": "b3cd2a57-fb46-469c-8701-01f5ae2db186",
   "metadata": {},
   "outputs": [
    {
     "data": {
      "text/plain": [
       "pandas.core.series.Series"
      ]
     },
     "execution_count": 15,
     "metadata": {},
     "output_type": "execute_result"
    }
   ],
   "source": [
    "type(targets)"
   ]
  },
  {
   "cell_type": "code",
   "execution_count": 37,
   "id": "9c5ca5a1-8538-40d8-9e42-ce1cd4ef4c80",
   "metadata": {},
   "outputs": [
    {
     "data": {
      "text/plain": [
       "Int64Index([6, 5, 7, 8, 4, 9, 10, 3, 11, 20, 12, 13, 2, 1, 14, 15, 16, 17, 0,\n",
       "            18, 19],\n",
       "           dtype='int64')"
      ]
     },
     "execution_count": 37,
     "metadata": {},
     "output_type": "execute_result"
    }
   ],
   "source": [
    "buckets = targets.map(lambda t: round(t/5)).value_counts()\n",
    "buckets.values[buckets.index]\n",
    "buckets.index"
   ]
  },
  {
   "cell_type": "code",
   "execution_count": 57,
   "id": "7735ce42-0085-4f4d-98b7-b15311a6804e",
   "metadata": {},
   "outputs": [],
   "source": [
    "# plt.bar(buckets.index, buckets.values)\n",
    "# plt.title(\"Distribution of Pawpularity scores\")\n",
    "# plt.ylabel(\"Count\")\n",
    "# plt.xlabel(\"Pawpularity / 5\")\n",
    "# plt.show()\n",
    "# plt.savefig(\"pawpularity_distribution\")\n",
    "# plt.close()\n",
    "\n",
    "buckets = targets.map(lambda t: round(t/5)).value_counts()\n",
    "buckets.values[buckets.index]\n",
    "buckets.index\n",
    "\n",
    "fig, ax = plt.subplots( nrows=1, ncols=1 )  # create figure & 1 axis\n",
    "ax.bar(buckets.index, buckets.values)\n",
    "ax.set_title(\"Distribution of Pawpularity scores\")\n",
    "ax.set_ylabel(\"Count\")\n",
    "ax.set_xlabel(\"Pawpularity / 5\")\n",
    "fig.patch.set_facecolor('white')\n",
    "fig.savefig('pawpularity_distribution.png')   # save the figure to file\n",
    "plt.close(fig)"
   ]
  },
  {
   "cell_type": "code",
   "execution_count": null,
   "id": "87767bed-3e92-472f-ae60-0646dfc50b78",
   "metadata": {},
   "outputs": [],
   "source": []
  }
 ],
 "metadata": {
  "environment": {
   "name": "tf2-gpu.2-6.m81",
   "type": "gcloud",
   "uri": "gcr.io/deeplearning-platform-release/tf2-gpu.2-6:m81"
  },
  "kernelspec": {
   "display_name": "Python 3",
   "language": "python",
   "name": "python3"
  },
  "language_info": {
   "codemirror_mode": {
    "name": "ipython",
    "version": 3
   },
   "file_extension": ".py",
   "mimetype": "text/x-python",
   "name": "python",
   "nbconvert_exporter": "python",
   "pygments_lexer": "ipython3",
   "version": "3.7.10"
  }
 },
 "nbformat": 4,
 "nbformat_minor": 5
}
