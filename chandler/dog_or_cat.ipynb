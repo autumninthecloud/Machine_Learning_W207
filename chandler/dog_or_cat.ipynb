{
 "cells": [
  {
   "cell_type": "code",
   "execution_count": 2,
   "id": "8e3908d4-08a8-4032-b471-344f7196cb20",
   "metadata": {},
   "outputs": [],
   "source": [
    "import matplotlib.pyplot as plt\n",
    "import numpy as np\n",
    "import pandas as pd\n",
    "import tensorflow as tf\n",
    "from sklearn.model_selection import train_test_split\n",
    "from sklearn.metrics import mean_squared_error\n",
    "from sklearn.decomposition import PCA\n",
    "from sklearn.decomposition import KernelPCA\n",
    "from sklearn.decomposition import SparsePCA\n",
    "from sklearn.linear_model import LinearRegression\n",
    "from sklearn.svm import SVC\n",
    "from sklearn.neural_network import MLPClassifier\n",
    "from scipy.stats import ttest_ind\n",
    "\n",
    "from PIL import Image\n",
    "from io import BytesIO"
   ]
  },
  {
   "cell_type": "code",
   "execution_count": 5,
   "id": "6e4b1aa9-83e2-47e9-8621-4d5a16add066",
   "metadata": {},
   "outputs": [
    {
     "name": "stdout",
     "output_type": "stream",
     "text": [
      "(3088,) 34.76360103626943\n",
      "(3854,) 41.9154125583809\n",
      "(2970,) 36.414478114478115\n",
      "Ttest_indResult(statistic=14.091299399813899, pvalue=1.75579840850635e-44)\n",
      "Ttest_indResult(statistic=3.5352191391755374, pvalue=0.0004104818876484506)\n",
      "Ttest_indResult(statistic=-10.495793558925802, pvalue=1.4135549524724267e-25)\n"
     ]
    }
   ],
   "source": [
    "df = pd.read_csv(\"../data/train_cat_or_dog.csv\")\n",
    "\n",
    "df['is_cat'] = df.cat.map(lambda t: 1 if t else 0)\n",
    "df['is_dog'] = df.dog.map(lambda t: 1 if t else 0)\n",
    "\n",
    "cat_pawpularity = df[df.cat == 1].Pawpularity\n",
    "dog_pawpularity = df[df.dog == 1].Pawpularity\n",
    "neither_pawpularity = df[(df.is_dog | df.is_cat).map(lambda j: True if j == 0 else False)].Pawpularity\n",
    "\n",
    "print(str(cat_pawpularity.shape) + \" \" + str(cat_pawpularity.mean()))\n",
    "print(str(dog_pawpularity.shape) + \" \" + str(dog_pawpularity.mean()))\n",
    "print(str(neither_pawpularity.shape) + \" \" + str(neither_pawpularity.mean()))\n",
    "\n",
    "print(ttest_ind(dog_pawpularity, cat_pawpularity))\n",
    "print(ttest_ind(neither_pawpularity, cat_pawpularity))\n",
    "print(ttest_ind(neither_pawpularity, dog_pawpularity))"
   ]
  },
  {
   "cell_type": "code",
   "execution_count": 69,
   "id": "038aa351-069b-4a5c-a35e-9faed415598d",
   "metadata": {},
   "outputs": [
    {
     "name": "stdout",
     "output_type": "stream",
     "text": [
      "20.244927712242625\n",
      "20.483913093513944\n"
     ]
    }
   ],
   "source": [
    "linearModel = LinearRegression()\n",
    "linearModel.fit(X_train, y_train)\n",
    "predictions = linearModel.predict(X_test)\n",
    "\n",
    "print(np.sqrt(mean_squared_error(predictions, y_test)))\n",
    "print(np.sqrt(mean_squared_error(linearModel.predict(X_train), y_train)))"
   ]
  },
  {
   "cell_type": "code",
   "execution_count": 70,
   "id": "61edc3c6-ce97-4d4b-b924-4fcd8901f17a",
   "metadata": {},
   "outputs": [
    {
     "data": {
      "text/plain": [
       "array([-1.96219037,  6.19627791])"
      ]
     },
     "execution_count": 70,
     "metadata": {},
     "output_type": "execute_result"
    }
   ],
   "source": [
    "linearModel.coef_"
   ]
  },
  {
   "cell_type": "code",
   "execution_count": 71,
   "id": "71635a9d-df97-4328-9d68-e857d353887c",
   "metadata": {},
   "outputs": [
    {
     "data": {
      "text/plain": [
       "37.20497111850167"
      ]
     },
     "execution_count": 71,
     "metadata": {},
     "output_type": "execute_result"
    }
   ],
   "source": [
    "linearModel.intercept_"
   ]
  },
  {
   "cell_type": "code",
   "execution_count": 72,
   "id": "71c7b279-f632-43dd-a2ea-a4b0c9e72362",
   "metadata": {},
   "outputs": [
    {
     "data": {
      "text/plain": [
       "20.428874756100438"
      ]
     },
     "execution_count": 72,
     "metadata": {},
     "output_type": "execute_result"
    }
   ],
   "source": [
    "mean = y_train.mean()\n",
    "np.sqrt(mean_squared_error([mean for i in np.arange(0, y_test.shape[0])], y_test))"
   ]
  },
  {
   "cell_type": "code",
   "execution_count": 73,
   "id": "28b8a9d6-d04c-4cbc-ad4f-de2e88a02e9d",
   "metadata": {},
   "outputs": [],
   "source": [
    "buckets = target.map(lambda t: round(t / 10))"
   ]
  },
  {
   "cell_type": "code",
   "execution_count": 58,
   "id": "ef465ecc-ae49-42d1-b734-d4e39898ebd5",
   "metadata": {},
   "outputs": [
    {
     "data": {
      "text/plain": [
       "<BarContainer object of 11 artists>"
      ]
     },
     "execution_count": 58,
     "metadata": {},
     "output_type": "execute_result"
    },
    {
     "data": {
      "image/png": "[encoded data removed]",
      "text/plain": [
       "<Figure size 432x288 with 1 Axes>"
      ]
     },
     "metadata": {
      "needs_background": "light"
     },
     "output_type": "display_data"
    }
   ],
   "source": [
    "plt.bar(buckets.unique(), buckets[df.cat].value_counts()[buckets.unique()])"
   ]
  },
  {
   "cell_type": "code",
   "execution_count": 59,
   "id": "8c1dd29c-cbde-4627-88fd-19c9befca5e8",
   "metadata": {},
   "outputs": [
    {
     "data": {
      "text/plain": [
       "<BarContainer object of 11 artists>"
      ]
     },
     "execution_count": 59,
     "metadata": {},
     "output_type": "execute_result"
    },
    {
     "data": {
      "image/png": "[encoded data removed]",
      "text/plain": [
       "<Figure size 432x288 with 1 Axes>"
      ]
     },
     "metadata": {
      "needs_background": "light"
     },
     "output_type": "display_data"
    }
   ],
   "source": [
    "plt.bar(buckets.unique(), buckets[df.dog].value_counts()[buckets.unique()])"
   ]
  },
  {
   "cell_type": "code",
   "execution_count": 60,
   "id": "e1f0cf1a-49ed-42b7-8da4-dbcdf430a785",
   "metadata": {},
   "outputs": [
    {
     "data": {
      "text/plain": [
       "<BarContainer object of 11 artists>"
      ]
     },
     "execution_count": 60,
     "metadata": {},
     "output_type": "execute_result"
    },
    {
     "data": {
      "image/png": "[encoded data removed]",
      "text/plain": [
       "<Figure size 432x288 with 1 Axes>"
      ]
     },
     "metadata": {
      "needs_background": "light"
     },
     "output_type": "display_data"
    }
   ],
   "source": [
    "plt.bar(buckets.unique(), buckets[(df.is_dog | df.is_cat).map(lambda j: True if j == 0 else False)].value_counts()[buckets.unique()])"
   ]
  },
  {
   "cell_type": "code",
   "execution_count": null,
   "id": "f36b5887-a86c-4c46-af5f-bc46b9e9f2a2",
   "metadata": {},
   "outputs": [],
   "source": [
    "features = df[['is_cat', 'is_dog']]"
   ]
  }
 ],
 "metadata": {
  "environment": {
   "name": "tf2-gpu.2-6.m81",
   "type": "gcloud",
   "uri": "gcr.io/deeplearning-platform-release/tf2-gpu.2-6:m81"
  },
  "kernelspec": {
   "display_name": "Python 3",
   "language": "python",
   "name": "python3"
  },
  "language_info": {
   "codemirror_mode": {
    "name": "ipython",
    "version": 3
   },
   "file_extension": ".py",
   "mimetype": "text/x-python",
   "name": "python",
   "nbconvert_exporter": "python",
   "pygments_lexer": "ipython3",
   "version": "3.7.10"
  }
 },
 "nbformat": 4,
 "nbformat_minor": 5
}
